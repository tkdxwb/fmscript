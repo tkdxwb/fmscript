{
 "cells": [
  {
   "cell_type": "code",
   "execution_count": 7,
   "metadata": {},
   "outputs": [],
   "source": [
    "import numpy as np\n",
    "import math\n",
    "import matplotlib.pyplot as plt\n",
    "import textwrap\n",
    "import os"
   ]
  },
  {
   "cell_type": "code",
   "execution_count": 8,
   "metadata": {},
   "outputs": [],
   "source": [
    "def berechne_f_y (y0,b,I0,Q,kStr,m):\n",
    "    A = y0*b + m*y0*y0\n",
    "    Lu = math.sqrt(1.0+m*m)*2.0*y0 + b\n",
    "    r_hy = A/Lu\n",
    "    f_y = (A * kStr * r_hy**(2/3) * I0**0.5) - Q\n",
    "    return f_y\n",
    "\n",
    "\n",
    "### Beginn: Zur Berechnung der DGL benötigte Funktionen\n",
    "def dh_von_dx(dx,I_0,Q,k_str,r_hy,A,b,m,h):\n",
    "    zaehler = dx * (I_0 - Q*Q/(k_str * k_str * r_hy**(4/3) * A*A))\n",
    "    nenner = 1. - Q*Q*(b+h*m)/(9.81*A*A*A)\n",
    "    dh = zaehler/nenner\n",
    "    return dh\n",
    "\n",
    "def berechne_querschnitt(h,b,m):\n",
    "    A = b*h + m*h*h\n",
    "    L_u = b + 2*h*math.sqrt(1.+m*m)\n",
    "    r_hy = A/L_u\n",
    "    return(A,r_hy)\n",
    "### Ende: Zur Berechnung der DGL benötigte Funktionen\n",
    "\n",
    "### Beginn: Definition der Klasse Spiegellinie\n",
    "class Spiegellinie:\n",
    "    def __init__(self, dx, dx_scale, grenze, h_N, h_gr, h_start, name):\n",
    "        self.dx = dx\n",
    "        self.dx_scale = dx_scale\n",
    "        self.grenze = grenze\n",
    "        self.h_N = h_N\n",
    "        self.h_gr = h_gr\n",
    "        self.h_start = h_start\n",
    "        self.name = name\n",
    "    \n",
    "    def berechnung(self):\n",
    "        print(\"Berechnung der Spiegellinie.\")\n",
    "        h_0 = self.h_start\n",
    "        z_0 = 0.0\n",
    "        z_So = z_0\n",
    "        z_Wsp = z_So+h_0\n",
    "        A,r_hy = berechne_querschnitt(h_0,b,m)\n",
    "        v = Q/A\n",
    "        z_H = z_So + h_0 + v*v/19.62\n",
    "        x = 0\n",
    "        dx = self.dx\n",
    "        kurven = np.empty((0,4),dtype=np.float64)\n",
    "        neue_Zeile = np.array([[x,z_So,z_Wsp,z_H]], dtype=np.float64)\n",
    "        kurven = np.append(kurven,neue_Zeile,axis=0)\n",
    "        #print(kurven)\n",
    "        while (abs(h_0-self.grenze)>0.01):\n",
    "            x = x+dx\n",
    "            A,r_hy = berechne_querschnitt(h_0,b,m)\n",
    "            v = Q/A\n",
    "            dh = dh_von_dx(dx,I_0,Q,k_str,r_hy,A,b,m,h_0)\n",
    "            h_0 = h_0 + dh\n",
    "            z_So = z_0 - x*I_0\n",
    "            z_Wsp = z_So + h_0\n",
    "            z_H = z_So + h_0 + v*v/19.62\n",
    "            neue_Zeile = np.array([[x,z_So,z_Wsp,z_H]], dtype=np.float64)\n",
    "            kurven = np.append(kurven,neue_Zeile,axis=0)\n",
    "            #print(kurven)\n",
    "            dx = dx * self.dx_scale\n",
    "            # jetzt die Plots\n",
    "        x_plot = kurven[:,0]\n",
    "        y_plot_1 = kurven[:,1]\n",
    "        y_plot_2 = kurven[:,2]\n",
    "        y_plot_3 = kurven[:,3]\n",
    "        plt.plot(x_plot,y_plot_1)\n",
    "        plt.plot(x_plot,y_plot_2)\n",
    "        plt.plot(x_plot,y_plot_3)\n",
    "        string_title = self.name + \"-Spiegellinie: Sohle, Wasserspiegel, Energielinie\"\n",
    "        plt.title(string_title)\n",
    "        plt.xlabel(\"x [m]\")\n",
    "        plt.ylabel(\"y [m]\")\n",
    "        plt.show()\n",
    "### Ende: Definition der Klasse Spiegellinie"
   ]
  },
  {
   "cell_type": "markdown",
   "metadata": {},
   "source": [
    "Dieses Programm berechnet für vorgegebenen Abfluss Q, Sohlgefälle I_0, Strickler-Wert k_str, Breite b und Böschungsneigung m die zugehörige Normalabflusstiefe, die Grenzabflusstiefe und die Froude-Zahl bei Normalabfluss. Außerdem wird der Gefälletyp (mild oder steil) bestimmt."
   ]
  },
  {
   "cell_type": "markdown",
   "metadata": {},
   "source": [
    "Darüberhinaus können Spiegellinien (M1, M2, M3, S1, S2, S3) berechnet und geplottet werden, je nach vorgegebenem Startwert einer Wassertiefe. Zu beachten ist dabei, dass bei strömendem Abfluss die zugrundeliegende Differentialgleichung von unterstrom nach oberstrom gelöst wird. Bei schießendem Abfluss erfolgt dies entsprechend andersherum. Dementsprechend werden die x-Achsen positiv oder negative Werte aufweisen bei den Plots."
   ]
  },
  {
   "cell_type": "markdown",
   "metadata": {},
   "source": [
    "#### Beginne nun mit der Eingabe. Achte auf 'sinnvolle' Werte, sonst keine Garantie, dass das Programm durchläuft!"
   ]
  },
  {
   "cell_type": "code",
   "execution_count": 9,
   "metadata": {},
   "outputs": [],
   "source": [
    "Q= 1000 # Durchfluss Q in m^3/s\n",
    "b= 2 # Breite b in m\n",
    "m= 0.001 # Böschungsneigung m [-] \n",
    "k_str= 30 # Stricklerbeiwert k_str in m^(1/3) /s\n",
    "I_0= 0.002 # Sohlgefälle I_0 [-]"
   ]
  },
  {
   "cell_type": "markdown",
   "metadata": {},
   "source": [
    "#### Berechnung des Normalabflusszustands und Grenzabfluss"
   ]
  },
  {
   "cell_type": "code",
   "execution_count": 10,
   "metadata": {},
   "outputs": [
    {
     "name": "stdout",
     "output_type": "stream",
     "text": [
      "Berechnet wurden: \n",
      "Normalabflusstiefe: 296.63 m\n",
      "Geschwindigkeit bei Normalabfluss: 1.69 m/s\n",
      "Froude-Zahl: 0.03\n",
      "H_0 bei Normalabfluss: 296.77 m\n",
      "Grenzabflusstiefe: 29.14 m\n"
     ]
    }
   ],
   "source": [
    "y0 = Q/b # Startwertschätzung für Iteration (gibt's bessere Ideen?)\n",
    "yneu = y0\n",
    "yalt = y0+1 # um die Schleife sicher zu aktivieren\n",
    "while abs(yneu-yalt)>0.001:\n",
    "    f_y = berechne_f_y (yneu,b,I_0,Q,k_str,m)\n",
    "    # Ableitung numerisch berechnen\n",
    "    dy = 0.00000001*f_y\n",
    "    fplus = berechne_f_y (yneu+dy,b,I_0,Q,k_str,m)\n",
    "    fminus = berechne_f_y (yneu-dy,b,I_0,Q,k_str,m)\n",
    "    fabl = (fplus-fminus)/(2*dy)\n",
    "    yalt = yneu\n",
    "    #print(\"aktueller Iterationswert:\", yneu, \"\\n\")\n",
    "    yneu = yneu - (1/fabl)*f_y\n",
    "\n",
    "h_N = yneu\n",
    "v_N = Q/(yneu*b)\n",
    "Fr_N = v_N/(9.81*yneu)**0.5\n",
    "# jetzt h_gr ausrechnen (bissle murksige Methode in zwei Schritten weil Trapez)\n",
    "q = Q/b\n",
    "h_gr = (q*q/9.81)**(1/3)\n",
    "q = Q/(b+m*h_gr)\n",
    "h_gr = (q*q/9.81)**(1/3)\n",
    "\n",
    "print(\"Berechnet wurden: \")\n",
    "print(\"Normalabflusstiefe:\", round(h_N,2), \"m\")\n",
    "print(\"Geschwindigkeit bei Normalabfluss:\", round(v_N,2), \"m/s\")\n",
    "print(\"Froude-Zahl:\", round(Fr_N,2))\n",
    "print(\"H_0 bei Normalabfluss:\", round(yneu+v_N*v_N/19.62,2), \"m\")\n",
    "print(\"Grenzabflusstiefe:\", round(h_gr,2), \"m\")\n",
    "### Ende: Berechnung des Normalabflusszustands und Grenzabfluss"
   ]
  },
  {
   "cell_type": "code",
   "execution_count": 11,
   "metadata": {},
   "outputs": [
    {
     "name": "stdout",
     "output_type": "stream",
     "text": [
      "Das Gefälle ist mild. Es können M1-Kurve, M2-Kurve oder M3-Kurve dargestellt\n",
      "werden.\n",
      "Wähle M1 mit der Taste '1' oder entsprechend M2/M3 mit '2' oder '3'. Wähle '4' für Beenden2\n",
      "M2 benötigt einen Startwert kleiner als Normalabflusstiefe (hier: 296.625 m) und größer als Grenzabflusstiefe (hier: 29.143 m):\n",
      "Bitte Startwert eingeben: 32\n",
      "Berechnung der Spiegellinie.\n"
     ]
    },
    {
     "data": {
      "image/png": "[encoded data removed]",
      "text/plain": [
       "<Figure size 432x288 with 1 Axes>"
      ]
     },
     "metadata": {
      "needs_background": "light"
     },
     "output_type": "display_data"
    },
    {
     "name": "stdout",
     "output_type": "stream",
     "text": [
      "Wähle M1 mit der Taste '1' oder entsprechend M2/M3 mit '2' oder '3'. Wähle '4' für Beenden4\n",
      "ENDE\n"
     ]
    }
   ],
   "source": [
    "### Spiegellinienberechnung\n",
    "if (Fr_N<1):\n",
    "    gefaelle_message = \"Das Gefälle ist mild. Es können M1-Kurve, M2-Kurve oder M3-Kurve dargestellt werden.\" \n",
    "    print(textwrap.fill(gefaelle_message,80))\n",
    "    welche_Kurve = input(\"Wähle M1 mit der Taste '1' oder entsprechend M2/M3 mit '2' oder '3'. Wähle '4' für Beenden\")\n",
    "    welche_Kurve = int(welche_Kurve)\n",
    "    while ((welche_Kurve == 1) or (welche_Kurve == 2) or (welche_Kurve == 3)):\n",
    "        if(welche_Kurve == 1):\n",
    "            print(\"M1 benötigt einen Startwert größer als Normalabflusstiefe (hier:\", round(h_N,3), \"m):\")\n",
    "            h_start = input(\"Bitte Startwert eingeben: \")\n",
    "            h_start = float(h_start)\n",
    "            dx = -0.01  \n",
    "            dx_scale = 1.05\n",
    "            grenze = h_N\n",
    "            M1 = Spiegellinie(dx,dx_scale,grenze,h_N,h_gr,h_start,\"M1\")\n",
    "            M1.berechnung()\n",
    "            welche_Kurve = input(\"Wähle M1 mit der Taste '1' oder entsprechend M2/M3 mit '2' oder '3'. Wähle '4' für Beenden\")\n",
    "            welche_Kurve = int(welche_Kurve)\n",
    "        elif(welche_Kurve == 2):\n",
    "            print(\"M2 benötigt einen Startwert kleiner als Normalabflusstiefe (hier:\", round(h_N,3), \"m) und größer als Grenzabflusstiefe (hier:\", round(h_gr,3), \"m):\")\n",
    "            h_start = input(\"Bitte Startwert eingeben: \")\n",
    "            h_start = float(h_start)\n",
    "            dx = -0.01  \n",
    "            dx_scale = 1.01\n",
    "            grenze = h_N\n",
    "            M2 = Spiegellinie(dx,dx_scale,grenze,h_N,h_gr,h_start,\"M2\")\n",
    "            M2.berechnung()\n",
    "            welche_Kurve = input(\"Wähle M1 mit der Taste '1' oder entsprechend M2/M3 mit '2' oder '3'. Wähle '4' für Beenden\")\n",
    "            welche_Kurve = int(welche_Kurve)\n",
    "        elif(welche_Kurve == 3):\n",
    "            print(\"M3 benötigt einen Startwert kleiner als Grenzabflusstiefe (hier:\", round(h_gr,3), \"m):\")\n",
    "            h_start = input(\"Bitte Startwert eingeben: \")\n",
    "            h_start = float(h_start)\n",
    "            dx = 0.001  \n",
    "            dx_scale = 1.0\n",
    "            grenze = h_gr\n",
    "            M3 = Spiegellinie(dx,dx_scale,grenze,h_N,h_gr,h_start,\"M3\")\n",
    "            M3.berechnung()\n",
    "            welche_Kurve = input(\"Wähle M1 mit der Taste '1' oder entsprechend M2/M3 mit '2' oder '3'. Wähle '4' für Beenden\")\n",
    "            welche_Kurve = int(welche_Kurve)\n",
    "    print(\"ENDE\")\n",
    "\n",
    "elif (Fr_N>1):\n",
    "    gefaelle_message = \"Das Gefälle ist steil. Es können S1-Kurve, S2-Kurve oder S3-Kurve dargestellt werden.\"\n",
    "    print(textwrap.fill(gefaelle_message,80))\n",
    "    welche_Kurve = input(\"Wähle S1 mit der Taste '1' oder entsprechend S2/S3 mit '2' oder '3'. Wähle '4' für Beenden\")\n",
    "    welche_Kurve = int(welche_Kurve)\n",
    "    while ((welche_Kurve == 1) or (welche_Kurve == 2) or (welche_Kurve == 3)):\n",
    "        if(welche_Kurve == 1):\n",
    "            print(\"S1 benötigt einen Startwert größer als Normalabflusstiefe (hier:\", round(h_N,3), \"m):\")\n",
    "            h_start = input(\"Bitte Startwert eingeben: \")\n",
    "            h_start = float(h_start)\n",
    "            dx = -0.005\n",
    "            dx_scale = 1.0001\n",
    "            grenze = h_gr\n",
    "            S1 = Spiegellinie(dx,dx_scale,grenze,h_N,h_gr,h_start,\"S1\")\n",
    "            S1.berechnung()\n",
    "            welche_Kurve = input(\"Wähle S1 mit der Taste '1' oder entsprechend S2/S3 mit '2' oder '3'. Wähle '4' für Beenden\")\n",
    "            welche_Kurve = int(welche_Kurve)\n",
    "        elif(welche_Kurve == 2):\n",
    "            print(\"S2 benötigt einen Startwert größer als Normalabflusstiefe (hier:\", round(h_N,3), \"m) und kleiner als Grenzabflusstiefe (hier:\", round(h_gr,3), \"m):\")\n",
    "            h_start = input(\"Bitte Startwert eingeben: \")\n",
    "            h_start = float(h_start)\n",
    "            dx = 0.001\n",
    "            dx_scale = 1.01\n",
    "            grenze = h_N\n",
    "            S2 = Spiegellinie(dx,dx_scale,grenze,h_N,h_gr,h_start,\"S2\")\n",
    "            S2.berechnung()\n",
    "            welche_Kurve = input(\"Wähle S1 mit der Taste '1' oder entsprechend S2/S3 mit '2' oder '3'. Wähle '4' für Beenden\")\n",
    "            welche_Kurve = int(welche_Kurve)\n",
    "        elif(welche_Kurve == 3):\n",
    "            print(\"S3 benötigt einen Startwert kleiner als Normalabflusstiefe (hier:\", round(h_N,3), \"m):\")\n",
    "            h_start = input(\"Bitte Startwert eingeben: \")\n",
    "            h_start = float(h_start)\n",
    "            dx = 0.05\n",
    "            dx_scale = 1.001\n",
    "            grenze = h_N\n",
    "            S3 = Spiegellinie(dx,dx_scale,grenze,h_N,h_gr,h_start,\"S3\")\n",
    "            S3.berechnung()\n",
    "            welche_Kurve = input(\"Wähle S1 mit der Taste '1' oder entsprechend S2/S3 mit '2' oder '3'. Wähle '4' für Beenden\")\n",
    "            welche_Kurve = int(welche_Kurve)\n",
    "    print(\"ENDE\")\n"
   ]
  }
 ],
 "metadata": {
  "kernelspec": {
   "display_name": "Python 3",
   "language": "python",
   "name": "python3"
  },
  "language_info": {
   "codemirror_mode": {
    "name": "ipython",
    "version": 3
   },
   "file_extension": ".py",
   "mimetype": "text/x-python",
   "name": "python",
   "nbconvert_exporter": "python",
   "pygments_lexer": "ipython3",
   "version": "3.9.12"
  }
 },
 "nbformat": 4,
 "nbformat_minor": 4
}
