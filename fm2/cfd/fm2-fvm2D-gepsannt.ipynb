{
 "cells": [
  {
   "cell_type": "code",
   "execution_count": null,
   "metadata": {
    "scrolled": true
   },
   "outputs": [],
   "source": [
    "import fm2_fvm2D_gespannt as fvm2d\n",
    "%matplotlib widget"
   ]
  },
  {
   "cell_type": "code",
   "execution_count": null,
   "metadata": {},
   "outputs": [],
   "source": [
    "%%javascript\n",
    "IPython.OutputArea.prototype._should_scroll = function(lines) {\n",
    "    return false;\n",
    "}"
   ]
  },
  {
   "cell_type": "markdown",
   "metadata": {},
   "source": [
    "### Dieses Programm löst die stationäre Grundwassergleichung in einem gespannten Aquifer in 2D mit der Finite-Volumen-Methode. Vorzugeben sind die Länge des Modellgebiets, die Anzahl der Finiten Volumina in x- und y-Richtung (für jeweils äquidistante Diskretisierungsweite), die Randbedingungen und mögliche Quell-/Senkterme, sowie die hydraulische Leitfähigkeit."
   ]
  },
  {
   "cell_type": "code",
   "execution_count": null,
   "metadata": {},
   "outputs": [],
   "source": [
    "#Input\n",
    "\n",
    "# Länge des Modellgebiets in m:\n",
    "L = 10\n",
    "\n",
    "# Breite des Modellgebiets in m:\n",
    "B = 10\n",
    "\n",
    "# Anzahl der Zellen in x-Richtung (int!):\n",
    "nxCells = 20\n",
    "\n",
    "# Anzahl der Zellen in y-Richtung (int!): \n",
    "nyCells = 20\n",
    "\n",
    "# Anzahl der Zellen in y-Richtung (int!):\n",
    "nyCells = 20\n",
    "\n",
    "# Hydraulische Leitfähigkeit in [m/s]: \n",
    "k_f = 10\n",
    "\n",
    "# Querschnittstiefe der Kontrollvolumina einfach mal konstant 1 gesetzt\n",
    "depth = 1 "
   ]
  },
  {
   "cell_type": "code",
   "execution_count": null,
   "metadata": {
    "scrolled": true
   },
   "outputs": [],
   "source": [
    "fvm2d.berechnen(float(L), float(B), int(nxCells), int(nyCells),float(k_f),float(depth))"
   ]
  }
 ],
 "metadata": {
  "kernelspec": {
   "display_name": "Python 3 (ipykernel)",
   "language": "python",
   "name": "python3"
  },
  "language_info": {
   "codemirror_mode": {
    "name": "ipython",
    "version": 3
   },
   "file_extension": ".py",
   "mimetype": "text/x-python",
   "name": "python",
   "nbconvert_exporter": "python",
   "pygments_lexer": "ipython3",
   "version": "3.9.12"
  },
  "vscode": {
   "interpreter": {
    "hash": "aee8b7b246df8f9039afb4144a1f6fd8d2ca17a180786b69acc140d282b71a49"
   }
  }
 },
 "nbformat": 4,
 "nbformat_minor": 4
}
