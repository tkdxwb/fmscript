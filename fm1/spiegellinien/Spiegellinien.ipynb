{
 "cells": [
  {
   "cell_type": "code",
   "execution_count": null,
   "metadata": {},
   "outputs": [],
   "source": [
    "from spiegellinien import *"
   ]
  },
  {
   "cell_type": "markdown",
   "metadata": {},
   "source": [
    "Dieses Programm berechnet für vorgegebenen Abfluss Q, Sohlgefälle I_0, Strickler-Wert k_str, Breite b und Böschungsneigung m die zugehörige Normalabflusstiefe, die Grenzabflusstiefe und die Froude-Zahl bei Normalabfluss. Außerdem wird der Gefälletyp (mild oder steil) bestimmt."
   ]
  },
  {
   "cell_type": "markdown",
   "metadata": {},
   "source": [
    "Darüberhinaus können Spiegellinien (M1, M2, M3, S1, S2, S3) berechnet und geplottet werden, je nach vorgegebenem Startwert einer Wassertiefe. Zu beachten ist dabei, dass bei strömendem Abfluss die zugrundeliegende Differentialgleichung von unterstrom nach oberstrom gelöst wird. Bei schießendem Abfluss erfolgt dies entsprechend andersherum. Dementsprechend werden die x-Achsen positiv oder negative Werte aufweisen bei den Plots."
   ]
  },
  {
   "cell_type": "markdown",
   "metadata": {},
   "source": [
    "#### Beginne nun mit der Eingabe. Achte auf 'sinnvolle' Werte, sonst keine Garantie, dass das Programm durchläuft!"
   ]
  },
  {
   "cell_type": "code",
   "execution_count": null,
   "metadata": {},
   "outputs": [],
   "source": [
    "Q=  10 # Durchfluss Q in m^3/s\n",
    "b=  2 # Breite b in m\n",
    "m=  1e-3 # Böschungsneigung m [-]\n",
    "k_str=  30 # Stricklerbeiwert k_str in m^(1/3) /s\n",
    "I_0= 1e-2 # Sohlgefälle I_0 [-]\n",
    "sp = Spiegellinie(Q,b,I_0,k_str,m,\"\")"
   ]
  },
  {
   "cell_type": "markdown",
   "metadata": {},
   "source": [
    "#### Berechnung des Normalabflusszustands und Grenzabfluss"
   ]
  },
  {
   "cell_type": "code",
   "execution_count": null,
   "metadata": {},
   "outputs": [],
   "source": [
    "sp.normalAbfluss()"
   ]
  },
  {
   "cell_type": "markdown",
   "metadata": {},
   "source": [
    "####  Spiegellinienberechnung"
   ]
  },
  {
   "cell_type": "code",
   "execution_count": null,
   "metadata": {},
   "outputs": [],
   "source": [
    "sp.spiegelLinie()"
   ]
  }
 ],
 "metadata": {
  "kernelspec": {
   "display_name": "Python 3",
   "language": "python",
   "name": "python3"
  },
  "language_info": {
   "codemirror_mode": {
    "name": "ipython",
    "version": 3
   },
   "file_extension": ".py",
   "mimetype": "text/x-python",
   "name": "python",
   "nbconvert_exporter": "python",
   "pygments_lexer": "ipython3",
   "version": "3.9.12"
  }
 },
 "nbformat": 4,
 "nbformat_minor": 4
}
